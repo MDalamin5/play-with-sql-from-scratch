{
 "cells": [
  {
   "cell_type": "markdown",
   "id": "2c198f1c",
   "metadata": {},
   "source": [
    "# **SQLAlchemy from Medium Blog**\n",
    "\n",
    "[A Beginner’s Guide to SQLAlchemy: Getting Started with Python’s Powerful ORM](https://medium.com/@maskarapriyanshu/a-beginners-guide-to-sqlalchemy-getting-started-with-python-s-powerful-orm-ab8428f7074b)"
   ]
  },
  {
   "cell_type": "code",
   "execution_count": 5,
   "id": "92114f1f",
   "metadata": {},
   "outputs": [],
   "source": [
    "from dotenv import load_dotenv\n",
    "load_dotenv()\n",
    "import warnings\n",
    "warnings.filterwarnings(\"ignore\")"
   ]
  },
  {
   "cell_type": "code",
   "execution_count": 3,
   "id": "6bc28151",
   "metadata": {},
   "outputs": [],
   "source": [
    "import os\n",
    "from sqlalchemy import create_engine\n",
    "\n",
    "# Read DB URL from environment variable\n",
    "db_url = os.getenv(\"PG_DATABASE_URL\")\n",
    "\n",
    "# Create engine\n",
    "engine = create_engine(db_url)\n"
   ]
  },
  {
   "cell_type": "markdown",
   "id": "8f5de1fd",
   "metadata": {},
   "source": [
    "## **Defining Database Models**\n",
    "```bash\n",
    "In SQLAlchemy, database tables are represented as Python classes, and each instance of a class represents a row in the corresponding table. Let’s define a simple User model to represent a user table:\n",
    "```"
   ]
  },
  {
   "cell_type": "code",
   "execution_count": 7,
   "id": "c6f77179",
   "metadata": {},
   "outputs": [],
   "source": [
    "from sqlalchemy import Column, Integer, String, ForeignKey, Float\n",
    "from sqlalchemy.ext.declarative import declarative_base\n",
    "from sqlalchemy.orm import relationship\n",
    "\n",
    "Base = declarative_base()\n",
    "\n",
    "class User(Base):\n",
    "  __tablename__ = 'users'\n",
    "  id = Column(Integer, primary_key=True)\n",
    "  username = Column(String)\n",
    "  age = Column(Integer)\n",
    "  balance = Column(Float)"
   ]
  },
  {
   "cell_type": "code",
   "execution_count": 8,
   "id": "52f42798",
   "metadata": {},
   "outputs": [],
   "source": [
    "# Define the Address model\n",
    "class Address(Base):\n",
    "  __tablename__ = 'addresses'\n",
    "  id = Column(Integer, primary_key=True)\n",
    "  user_id = Column(Integer, ForeignKey('users.id'))\n",
    "  email = Column(String)\n",
    "  user = relationship(\"User\", backref=\"addresses\")"
   ]
  },
  {
   "cell_type": "markdown",
   "id": "3ac38948",
   "metadata": {},
   "source": [
    "## **Creating a Session**\n",
    "```lua\n",
    "To interact with the database, we need to create a session. The session manages the connection to the database and provides a way to execute queries and perform database operations. Here’s how you can create a session:\n",
    "```"
   ]
  },
  {
   "cell_type": "code",
   "execution_count": null,
   "id": "6c526ba6",
   "metadata": {},
   "outputs": [],
   "source": []
  }
 ],
 "metadata": {
  "kernelspec": {
   "display_name": "myenv",
   "language": "python",
   "name": "python3"
  },
  "language_info": {
   "codemirror_mode": {
    "name": "ipython",
    "version": 3
   },
   "file_extension": ".py",
   "mimetype": "text/x-python",
   "name": "python",
   "nbconvert_exporter": "python",
   "pygments_lexer": "ipython3",
   "version": "3.12.3"
  }
 },
 "nbformat": 4,
 "nbformat_minor": 5
}
