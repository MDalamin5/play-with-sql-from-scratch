{
 "cells": [
  {
   "cell_type": "markdown",
   "id": "2c198f1c",
   "metadata": {},
   "source": [
    "# **SQLAlchemy from Medium Blog**\n",
    "\n",
    "[A Beginner’s Guide to SQLAlchemy: Getting Started with Python’s Powerful ORM](https://medium.com/@maskarapriyanshu/a-beginners-guide-to-sqlalchemy-getting-started-with-python-s-powerful-orm-ab8428f7074b)"
   ]
  },
  {
   "cell_type": "code",
   "execution_count": 1,
   "id": "92114f1f",
   "metadata": {},
   "outputs": [
    {
     "data": {
      "text/plain": [
       "True"
      ]
     },
     "execution_count": 1,
     "metadata": {},
     "output_type": "execute_result"
    }
   ],
   "source": [
    "from dotenv import load_dotenv\n",
    "load_dotenv()"
   ]
  },
  {
   "cell_type": "code",
   "execution_count": 3,
   "id": "6bc28151",
   "metadata": {},
   "outputs": [],
   "source": [
    "import os\n",
    "from sqlalchemy import create_engine\n",
    "\n",
    "# Read DB URL from environment variable\n",
    "db_url = os.getenv(\"PG_DATABASE_URL\")\n",
    "\n",
    "# Create engine\n",
    "engine = create_engine(db_url)\n"
   ]
  },
  {
   "cell_type": "markdown",
   "id": "8f5de1fd",
   "metadata": {},
   "source": [
    "## **Defining Database Models**\n",
    "```bash\n",
    "In SQLAlchemy, database tables are represented as Python classes, and each instance of a class represents a row in the corresponding table. Let’s define a simple User model to represent a user table:\n",
    "```"
   ]
  },
  {
   "cell_type": "code",
   "execution_count": null,
   "id": "c6f77179",
   "metadata": {},
   "outputs": [],
   "source": []
  }
 ],
 "metadata": {
  "kernelspec": {
   "display_name": "myenv",
   "language": "python",
   "name": "python3"
  },
  "language_info": {
   "codemirror_mode": {
    "name": "ipython",
    "version": 3
   },
   "file_extension": ".py",
   "mimetype": "text/x-python",
   "name": "python",
   "nbconvert_exporter": "python",
   "pygments_lexer": "ipython3",
   "version": "3.12.3"
  }
 },
 "nbformat": 4,
 "nbformat_minor": 5
}
